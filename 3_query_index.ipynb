{
 "cells": [
  {
   "cell_type": "markdown",
   "metadata": {},
   "source": [
    "#### Search"
   ]
  },
  {
   "cell_type": "code",
   "execution_count": 1,
   "metadata": {},
   "outputs": [
    {
     "name": "stdout",
     "output_type": "stream",
     "text": [
      "Note: you may need to restart the kernel to use updated packages.\n"
     ]
    }
   ],
   "source": [
    "%pip install -q azure-search-documents python-dotenv"
   ]
  },
  {
   "cell_type": "code",
   "execution_count": 2,
   "metadata": {},
   "outputs": [
    {
     "name": "stdout",
     "output_type": "stream",
     "text": [
      "endpoint: https://hotelservice.search.windows.net/\n",
      "index_name: hotel-reviews-index\n"
     ]
    }
   ],
   "source": [
    "from azure.core.credentials import AzureKeyCredential\n",
    "from azure.search.documents.indexes import SearchIndexClient\n",
    "from azure.search.documents import SearchClient\n",
    "\n",
    "import os\n",
    "from dotenv import load_dotenv\n",
    "\n",
    "load_dotenv(\"../.env\")\n",
    "\n",
    "# Azure Search service details\n",
    "service_name = os.getenv(\"SERVICE_NAME\")\n",
    "admin_key = os.getenv(\"SEARCH_ADMIN_KEY\")\n",
    "index_name = os.getenv(\"SEARCH_INDEX_NAME\")\n",
    "\n",
    "# Initialize the search index client\n",
    "endpoint = f\"https://{service_name}.search.windows.net/\"\n",
    "credential = AzureKeyCredential(admin_key)\n",
    "index_client = SearchIndexClient(endpoint=endpoint, credential=credential)\n",
    "search_client = SearchClient(endpoint=endpoint, index_name=index_name, credential=credential)\n",
    "\n",
    "print(f\"endpoint: {endpoint}\")\n",
    "print(f\"index_name: {index_name}\")"
   ]
  },
  {
   "cell_type": "code",
   "execution_count": 3,
   "metadata": {},
   "outputs": [],
   "source": [
    "from openai import OpenAI\n",
    "\n",
    "openai_client = OpenAI()\n",
    "\n",
    "def embed_query(query: str) -> list:\n",
    "    response = openai_client.embeddings.create(\n",
    "        input=query, model=\"text-embedding-3-small\"\n",
    "    )\n",
    "    return response.data[0].embedding"
   ]
  },
  {
   "cell_type": "code",
   "execution_count": 6,
   "metadata": {},
   "outputs": [],
   "source": [
    "from azure.search.documents.models import VectorizedQuery\n",
    "from azure.search.documents.models import QueryType, QueryCaptionType, QueryAnswerType\n",
    "\n",
    "def full_text_search(query, top=5):\n",
    "    \"\"\"Perform a full-text search.\"\"\"\n",
    "    results = search_client.search(search_text=query, top=top)\n",
    "    return list(results)\n",
    "\n",
    "def vector_search(query):\n",
    "    embedded_query = embed_query(query)\n",
    "    vector_query = VectorizedQuery(vector=embedded_query, k_nearest_neighbors=3, fields=\"embedding\")\n",
    "  \n",
    "    results = search_client.search(  \n",
    "        search_text=None,  \n",
    "        vector_queries= [vector_query],\n",
    "        select=[\"hotel_name\", \"review_text\", \"review_title\", \"city\"],\n",
    "    )  \n",
    "    return list(results)\n",
    "\n",
    "def hybrid_search(query, top=5):\n",
    "    \"\"\"Perform a hybrid search (combination of full-text and vector search).\"\"\"\n",
    "    embedded_query = embed_query(query)\n",
    "    vector_query = VectorizedQuery(vector=embedded_query, k_nearest_neighbors=3, fields=\"embedding\")\n",
    "    results = search_client.search(\n",
    "        search_text=query,\n",
    "        vector_queries=[vector_query],\n",
    "        select=[\"id\", \"review_text\", \"review_title\", \"hotel_name\", \"city\"],\n",
    "        top=top,\n",
    "    )\n",
    "    return list(results)\n",
    "\n",
    "def semantic_search(query, top=5):\n",
    "    \"\"\"Perform a semantic search using the vector search method.\"\"\"\n",
    "    embedded_query = embed_query(query)\n",
    "    vector_query = VectorizedQuery(\n",
    "        vector=embedded_query, k_nearest_neighbors=3, fields=\"embedding\"\n",
    "    )\n",
    "    results = search_client.search(\n",
    "        search_text=query,\n",
    "        vector_queries=[vector_query],\n",
    "        select=[\n",
    "            \"id\",\n",
    "            \"review_text\",\n",
    "            \"review_title\",\n",
    "            \"hotel_name\",\n",
    "            \"city\",\n",
    "            \"hotel_state\",\n",
    "        ],\n",
    "        query_type=QueryType.SEMANTIC,\n",
    "        semantic_configuration_name=\"ps-hotels-semantic-config\",\n",
    "        query_caption=QueryCaptionType.EXTRACTIVE,\n",
    "        query_answer=QueryAnswerType.EXTRACTIVE,\n",
    "        top=top,\n",
    "    )\n",
    "    return results\n",
    "\n",
    "def print_semantic_results(results):\n",
    "    for result in results:\n",
    "        print(f\"Hotel Name: {result['hotel_name']}\")\n",
    "        print(f\"Reranker Score: {result['@search.reranker_score']}\")\n",
    "        print(f\"Review Title: {result['review_title']}\")\n",
    "        print(f\"Review: {result['review_text']}\")\n",
    "\n",
    "        captions = result[\"@search.captions\"]\n",
    "        if captions:\n",
    "            caption = captions[0]\n",
    "            if caption.highlights:\n",
    "                print(f\"Caption: {caption.highlights}\")\n",
    "            else:\n",
    "                print(f\"Caption: {caption.text}\")\n",
    "        print(\"\\n\")\n",
    "\n",
    "def print_results(results):\n",
    "    for result in results:\n",
    "        print(f\"Hotel Name: {result['hotel_name']}\")\n",
    "        print(f\"City: {result['city']}\")\n",
    "        print(f\"Score: {result['@search.score']}\")\n",
    "        print(f\"Review Title: {result['review_title']}\")\n",
    "        print(f\"Review: {result['review_text']}\")\n",
    "        print(\"\\n\")"
   ]
  },
  {
   "cell_type": "code",
   "execution_count": 9,
   "metadata": {},
   "outputs": [
    {
     "name": "stdout",
     "output_type": "stream",
     "text": [
      "Hotel Name: The Charlesmark Hotel\n",
      "City: Boston\n",
      "Score: 12.311747\n",
      "Review Title: Convenient location in the city centre walkable to most...\n",
      "Review: Bad: Nothing. Good: Convenient location in the city centre walkable to most attractions\n",
      "\n",
      "\n",
      "Hotel Name: The Charlesmark Hotel\n",
      "City: Boston\n",
      "Score: 7.638342\n",
      "Review Title: Excellent location in city centre\n",
      "Review: Bad: Nothing. Good: Convenient location in the city centre walkable to most attractions\n",
      "\n",
      "\n",
      "Hotel Name: dana hotel and spa\n",
      "City: Chicago\n",
      "Score: 6.6430044\n",
      "Review Title: Great value, wonderfully walkable location, polite staff, restaurant beyond excellent.\n",
      "Review: Bad: Worst bartender ever. Long Island Iced Tea missing a few ingredients, King Alphonse was actually a Kahlua and cream with ice. Ugh. In-room coffee machine didn't work, took two days to get fixed, and then made awful coffee. Morning coffee from the restaurant was undrinkable. Thankfully, Starbucks nearby. Good: Best restaurant for dinner of any hotel anywhere. Entrees superb, bread pudding beyond superb. Excellent security staff -- Cheerfully and efficiently retrieved my forgotten keyboard, assured me it was safe, and FedExed it to me no charge. Decor stylish, cozy room made clever use of small space, room clean, rain shower nice. Non-convention type hotel very appealing. Really great value in accessible walkable location.\n",
      "\n",
      "\n",
      "Hotel Name: The Charlesmark Hotel\n",
      "City: Boston\n",
      "Score: 2.2007117\n",
      "Review Title: Was a great stay!\n",
      "Review: Bad: I think there could be more options offered as breakfast (there were only bagels and donut like something, and fruits), but it was still enough. So it's not something I didn't like but something that can be improved. Good: This hotel was a great one! When we entered room, there was classical music coming from the stereos, which give us a very nice feeling to start with. The bathroom, the towels, the bed, everything was clean, organized. I wish I could stick around more and enjoy the room as I stayed for 2 nights and was in the hotel to sleep only. The room was also facing the Boston public library, which was a blissful view, that makes you feel like you're in full luxury. The surrounding area was great, the parallel street (I believe it was Newburry) is full of nice clothing boutiques. It's really close to variety of food options and also right next to Copley station which makes public transportation a total ease. But I think when the weather permits, it's totally walkable to go around Freedom Trail etc. Also, I arrived very early in the morning and left in the middle of night, both felt okay to be out in the street, which is something I value the most.\n",
      "\n",
      "\n"
     ]
    }
   ],
   "source": [
    "query = \"walkable\"\n",
    "results = full_text_search(query)\n",
    "\n",
    "print_results(results)\n"
   ]
  },
  {
   "cell_type": "code",
   "execution_count": 10,
   "metadata": {},
   "outputs": [
    {
     "name": "stdout",
     "output_type": "stream",
     "text": [
      "Hotel Name: The Charlesmark Hotel\n",
      "City: Boston\n",
      "Score: 0.5965724\n",
      "Review Title: Convenient location in the city centre walkable to most...\n",
      "Review: Bad: Nothing. Good: Convenient location in the city centre walkable to most attractions\n",
      "\n",
      "\n",
      "Hotel Name: The Charlesmark Hotel\n",
      "City: Boston\n",
      "Score: 0.59231913\n",
      "Review Title: Pleasantly surprised\n",
      "Review: Bad: Closest parking was a 4-5 minute walk away for 28 overnight. Closer parking is available for 48 overnight. Good: Great neighborhood on Boylston and a block from Newbury St. Plenty of restaurants and bars within walking distance to choose from. It is one of the better values compared to other hotels in Boston. Half a block from the Copley T station if you want to get to another part of the city. 15- 20 minute walk to Fenway Park for the Sox game.\n",
      "\n",
      "\n",
      "Hotel Name: The Westin Las Vegas Hotel & Spa\n",
      "City: Las Vegas\n",
      "Score: 0.59213525\n",
      "Review Title: Clean, comfortable and easy to walk to the sights.\n",
      "Review: Bad: Service was not all it could be especially on check in. Good: Clean, comfortable and easy to walk to the sights.\n",
      "\n",
      "\n"
     ]
    }
   ],
   "source": [
    "query = \"walkable\"\n",
    "results = vector_search(query)\n",
    "\n",
    "print_results(results)"
   ]
  },
  {
   "cell_type": "code",
   "execution_count": 11,
   "metadata": {},
   "outputs": [
    {
     "name": "stdout",
     "output_type": "stream",
     "text": [
      "Hotel Name: The Charlesmark Hotel\n",
      "City: Boston\n",
      "Score: 0.03333333507180214\n",
      "Review Title: Convenient location in the city centre walkable to most...\n",
      "Review: Bad: Nothing. Good: Convenient location in the city centre walkable to most attractions\n",
      "\n",
      "\n",
      "Hotel Name: The Charlesmark Hotel\n",
      "City: Boston\n",
      "Score: 0.016393441706895828\n",
      "Review Title: Excellent location in city centre\n",
      "Review: Bad: Nothing. Good: Convenient location in the city centre walkable to most attractions\n",
      "\n",
      "\n",
      "Hotel Name: The Charlesmark Hotel\n",
      "City: Boston\n",
      "Score: 0.016393441706895828\n",
      "Review Title: Pleasantly surprised\n",
      "Review: Bad: Closest parking was a 4-5 minute walk away for 28 overnight. Closer parking is available for 48 overnight. Good: Great neighborhood on Boylston and a block from Newbury St. Plenty of restaurants and bars within walking distance to choose from. It is one of the better values compared to other hotels in Boston. Half a block from the Copley T station if you want to get to another part of the city. 15- 20 minute walk to Fenway Park for the Sox game.\n",
      "\n",
      "\n",
      "Hotel Name: dana hotel and spa\n",
      "City: Chicago\n",
      "Score: 0.016129031777381897\n",
      "Review Title: Great value, wonderfully walkable location, polite staff, restaurant beyond excellent.\n",
      "Review: Bad: Worst bartender ever. Long Island Iced Tea missing a few ingredients, King Alphonse was actually a Kahlua and cream with ice. Ugh. In-room coffee machine didn't work, took two days to get fixed, and then made awful coffee. Morning coffee from the restaurant was undrinkable. Thankfully, Starbucks nearby. Good: Best restaurant for dinner of any hotel anywhere. Entrees superb, bread pudding beyond superb. Excellent security staff -- Cheerfully and efficiently retrieved my forgotten keyboard, assured me it was safe, and FedExed it to me no charge. Decor stylish, cozy room made clever use of small space, room clean, rain shower nice. Non-convention type hotel very appealing. Really great value in accessible walkable location.\n",
      "\n",
      "\n",
      "Hotel Name: The Westin Las Vegas Hotel & Spa\n",
      "City: Las Vegas\n",
      "Score: 0.016129031777381897\n",
      "Review Title: Clean, comfortable and easy to walk to the sights.\n",
      "Review: Bad: Service was not all it could be especially on check in. Good: Clean, comfortable and easy to walk to the sights.\n",
      "\n",
      "\n"
     ]
    }
   ],
   "source": [
    "query = \"walkable\"\n",
    "results = hybrid_search(query)\n",
    "\n",
    "print_results(results)"
   ]
  },
  {
   "cell_type": "code",
   "execution_count": null,
   "metadata": {},
   "outputs": [],
   "source": []
  },
  {
   "cell_type": "markdown",
   "metadata": {},
   "source": [
    "#### Summarize Using OpenAI"
   ]
  },
  {
   "cell_type": "code",
   "execution_count": 12,
   "metadata": {},
   "outputs": [
    {
     "name": "stdout",
     "output_type": "stream",
     "text": [
      "{\n",
      "  \"summary\": \"The search results highlight several hotels known for their walkable locations in vibrant urban areas. The Charlesmark Hotel in Boston is frequently mentioned for its central location close to attractions, while the dana hotel and spa in Chicago offers a walkable experience with great dining options. The Westin Las Vegas Hotel & Spa is noted for its clean and comfortable environment, also situated conveniently for exploring the city. Overall, these hotels provide great accessibility to various city sights.\",\n",
      "  \"results\": [\n",
      "    {\n",
      "      \"city\": \"Boston\",\n",
      "      \"review_title\": \"Convenient location in the city centre walkable to most...\",\n",
      "      \"id\": \"4f9b3801-fc14-4f71-9a69-4d3aa3857723\",\n",
      "      \"hotel_name\": \"The Charlesmark Hotel\",\n",
      "      \"review_text\": \"Bad: Nothing. Good: Convenient location in the city centre walkable to most attractions.\"\n",
      "    },\n",
      "    {\n",
      "      \"city\": \"Boston\",\n",
      "      \"review_title\": \"Excellent location in city centre\",\n",
      "      \"id\": \"34132c10-104b-4565-9faf-8ed9f2276e11\",\n",
      "      \"hotel_name\": \"The Charlesmark Hotel\",\n",
      "      \"review_text\": \"Bad: Nothing. Good: Convenient location in the city centre walkable to most attractions.\"\n",
      "    },\n",
      "    {\n",
      "      \"city\": \"Boston\",\n",
      "      \"review_title\": \"Pleasantly surprised\",\n",
      "      \"id\": \"c970e52e-40d2-487d-a703-b1f8f3213e78\",\n",
      "      \"hotel_name\": \"The Charlesmark Hotel\",\n",
      "      \"review_text\": \"Bad: Closest parking was a 4-5 minute walk away for 28 overnight. Closer parking is available for 48 overnight. Good: Great neighborhood on Boylston and a block from Newbury St. Plenty of restaurants and bars within walking distance to choose from.\"\n",
      "    },\n",
      "    {\n",
      "      \"city\": \"Chicago\",\n",
      "      \"review_title\": \"Great value, wonderfully walkable location, polite staff, restaurant beyond excellent.\",\n",
      "      \"id\": \"3e83c19c-ff8b-4e68-acba-b7abbee3a986\",\n",
      "      \"hotel_name\": \"dana hotel and spa\",\n",
      "      \"review_text\": \"Bad: Worst bartender ever. Good: Best restaurant for dinner of any hotel anywhere. Really great value in accessible walkable location.\"\n",
      "    },\n",
      "    {\n",
      "      \"city\": \"Las Vegas\",\n",
      "      \"review_title\": \"Clean, comfortable and easy to walk to the sights.\",\n",
      "      \"id\": \"f9150663-5058-4df6-9ec6-83ad6902312b\",\n",
      "      \"hotel_name\": \"The Westin Las Vegas Hotel & Spa\",\n",
      "      \"review_text\": \"Bad: Service was not all it could be especially on check in. Good: Clean, comfortable and easy to walk to the sights.\"\n",
      "    }\n",
      "  ]\n",
      "}\n"
     ]
    }
   ],
   "source": [
    "from openai import OpenAI\n",
    "import json\n",
    "\n",
    "client = OpenAI()\n",
    "\n",
    "SYSTEM_MESSAGE = \"You are a helpful assistant.\"\n",
    "\n",
    "USER_QUERY = query\n",
    "SEARCH_RESULTS = results\n",
    "\n",
    "USER_MESSAGE = f\"\"\"\n",
    "  You are provided a user query, and the search results based on user query. You task is to summarize the results and put the best order for the results. \n",
    "\n",
    "USER_QUERY\n",
    "```\n",
    "{USER_QUERY}\n",
    "```\n",
    "\n",
    "SEARCH_RESULTS\n",
    "```\n",
    "{SEARCH_RESULTS}\n",
    "```\n",
    "\n",
    "Return a valid JSON with the following information\n",
    "\n",
    "RESULT_SCHEMA\n",
    "```\n",
    "{{\n",
    "  'summary': '',\n",
    "  'results': []\n",
    "}}\n",
    "```\n",
    "\"\"\"\n",
    "\n",
    "\n",
    "response = client.chat.completions.create(\n",
    "    model=\"gpt-4o-mini\",\n",
    "    messages=[\n",
    "        {\"role\": \"system\", \"content\": SYSTEM_MESSAGE},\n",
    "        {\"role\": \"user\", \"content\": USER_MESSAGE},\n",
    "    ],\n",
    "    response_format={\"type\": \"json_object\"},\n",
    ")\n",
    "\n",
    "response = json.loads(response.choices[0].message.content) \n",
    "print(json.dumps(response, indent=2))"
   ]
  },
  {
   "cell_type": "code",
   "execution_count": null,
   "metadata": {},
   "outputs": [],
   "source": []
  }
 ],
 "metadata": {
  "kernelspec": {
   "display_name": "azure-ai-search",
   "language": "python",
   "name": "python3"
  },
  "language_info": {
   "codemirror_mode": {
    "name": "ipython",
    "version": 3
   },
   "file_extension": ".py",
   "mimetype": "text/x-python",
   "name": "python",
   "nbconvert_exporter": "python",
   "pygments_lexer": "ipython3",
   "version": "3.12.8"
  }
 },
 "nbformat": 4,
 "nbformat_minor": 2
}
